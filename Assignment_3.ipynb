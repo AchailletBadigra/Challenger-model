{
 "cells": [
  {
   "cell_type": "markdown",
   "id": "4d6ea60f-eb7d-43db-a2e6-51e5658d489b",
   "metadata": {},
   "source": [
    "# Assignment 3"
   ]
  },
  {
   "cell_type": "markdown",
   "id": "8b0c58d4-4783-43d8-937d-aa10cd334b03",
   "metadata": {},
   "source": [
    "# Import data"
   ]
  },
  {
   "cell_type": "code",
   "execution_count": 9,
   "id": "355a9e64-f132-46e9-ae18-48cf71bc07fb",
   "metadata": {},
   "outputs": [
    {
     "data": {
      "text/html": [
       "<div>\n",
       "<style scoped>\n",
       "    .dataframe tbody tr th:only-of-type {\n",
       "        vertical-align: middle;\n",
       "    }\n",
       "\n",
       "    .dataframe tbody tr th {\n",
       "        vertical-align: top;\n",
       "    }\n",
       "\n",
       "    .dataframe thead th {\n",
       "        text-align: right;\n",
       "    }\n",
       "</style>\n",
       "<table border=\"1\" class=\"dataframe\">\n",
       "  <thead>\n",
       "    <tr style=\"text-align: right;\">\n",
       "      <th></th>\n",
       "      <th>id</th>\n",
       "      <th>loan_amnt</th>\n",
       "      <th>funded_amnt</th>\n",
       "      <th>funded_amnt_inv</th>\n",
       "      <th>term</th>\n",
       "      <th>int_rate</th>\n",
       "      <th>installment</th>\n",
       "      <th>grade</th>\n",
       "      <th>sub_grade</th>\n",
       "      <th>emp_title</th>\n",
       "      <th>...</th>\n",
       "      <th>term_numeric</th>\n",
       "      <th>debt_to_income</th>\n",
       "      <th>interest_per_loan_amnt</th>\n",
       "      <th>loan_amnt_log</th>\n",
       "      <th>grade_encoded</th>\n",
       "      <th>loan_amnt_std</th>\n",
       "      <th>annual_inc_std</th>\n",
       "      <th>loan_amnt_norm</th>\n",
       "      <th>annual_inc_norm</th>\n",
       "      <th>loan_default</th>\n",
       "    </tr>\n",
       "  </thead>\n",
       "  <tbody>\n",
       "    <tr>\n",
       "      <th>89119</th>\n",
       "      <td>96409607</td>\n",
       "      <td>18000.0</td>\n",
       "      <td>18000.0</td>\n",
       "      <td>18000.0</td>\n",
       "      <td>36 months</td>\n",
       "      <td>13.49%</td>\n",
       "      <td>610.75</td>\n",
       "      <td>C</td>\n",
       "      <td>C2</td>\n",
       "      <td>Technology Consultant</td>\n",
       "      <td>...</td>\n",
       "      <td>36</td>\n",
       "      <td>0.189474</td>\n",
       "      <td>7284.6000</td>\n",
       "      <td>9.798183</td>\n",
       "      <td>2</td>\n",
       "      <td>0.281748</td>\n",
       "      <td>0.171637</td>\n",
       "      <td>0.440204</td>\n",
       "      <td>0.008637</td>\n",
       "      <td>False</td>\n",
       "    </tr>\n",
       "    <tr>\n",
       "      <th>15982</th>\n",
       "      <td>94037348</td>\n",
       "      <td>33575.0</td>\n",
       "      <td>33575.0</td>\n",
       "      <td>33575.0</td>\n",
       "      <td>36 months</td>\n",
       "      <td>17.99%</td>\n",
       "      <td>1213.65</td>\n",
       "      <td>D</td>\n",
       "      <td>D2</td>\n",
       "      <td>CEO</td>\n",
       "      <td>...</td>\n",
       "      <td>36</td>\n",
       "      <td>0.459932</td>\n",
       "      <td>18120.4275</td>\n",
       "      <td>10.421567</td>\n",
       "      <td>3</td>\n",
       "      <td>1.926738</td>\n",
       "      <td>-0.080588</td>\n",
       "      <td>0.836514</td>\n",
       "      <td>0.006637</td>\n",
       "      <td>True</td>\n",
       "    </tr>\n",
       "    <tr>\n",
       "      <th>66842</th>\n",
       "      <td>7295309</td>\n",
       "      <td>29700.0</td>\n",
       "      <td>29700.0</td>\n",
       "      <td>29700.0</td>\n",
       "      <td>60 months</td>\n",
       "      <td>17.10%</td>\n",
       "      <td>739.72</td>\n",
       "      <td>C</td>\n",
       "      <td>C5</td>\n",
       "      <td>home depot</td>\n",
       "      <td>...</td>\n",
       "      <td>60</td>\n",
       "      <td>0.450000</td>\n",
       "      <td>25393.5000</td>\n",
       "      <td>10.298936</td>\n",
       "      <td>2</td>\n",
       "      <td>1.517471</td>\n",
       "      <td>-0.160841</td>\n",
       "      <td>0.737913</td>\n",
       "      <td>0.006000</td>\n",
       "      <td>True</td>\n",
       "    </tr>\n",
       "    <tr>\n",
       "      <th>40777</th>\n",
       "      <td>73826047</td>\n",
       "      <td>30000.0</td>\n",
       "      <td>30000.0</td>\n",
       "      <td>30000.0</td>\n",
       "      <td>60 months</td>\n",
       "      <td>17.27%</td>\n",
       "      <td>749.94</td>\n",
       "      <td>D</td>\n",
       "      <td>D2</td>\n",
       "      <td>Revenue Officer</td>\n",
       "      <td>...</td>\n",
       "      <td>60</td>\n",
       "      <td>0.372111</td>\n",
       "      <td>25905.0000</td>\n",
       "      <td>10.308986</td>\n",
       "      <td>3</td>\n",
       "      <td>1.549156</td>\n",
       "      <td>0.006785</td>\n",
       "      <td>0.745547</td>\n",
       "      <td>0.007330</td>\n",
       "      <td>False</td>\n",
       "    </tr>\n",
       "    <tr>\n",
       "      <th>44838</th>\n",
       "      <td>132671143</td>\n",
       "      <td>12000.0</td>\n",
       "      <td>12000.0</td>\n",
       "      <td>12000.0</td>\n",
       "      <td>60 months</td>\n",
       "      <td>17.47%</td>\n",
       "      <td>301.28</td>\n",
       "      <td>D</td>\n",
       "      <td>D1</td>\n",
       "      <td>NaN</td>\n",
       "      <td>...</td>\n",
       "      <td>60</td>\n",
       "      <td>0.303030</td>\n",
       "      <td>10482.0000</td>\n",
       "      <td>9.392745</td>\n",
       "      <td>3</td>\n",
       "      <td>-0.351956</td>\n",
       "      <td>-0.463510</td>\n",
       "      <td>0.287532</td>\n",
       "      <td>0.003600</td>\n",
       "      <td>False</td>\n",
       "    </tr>\n",
       "  </tbody>\n",
       "</table>\n",
       "<p>5 rows × 160 columns</p>\n",
       "</div>"
      ],
      "text/plain": [
       "              id  loan_amnt  funded_amnt  funded_amnt_inv        term  \\\n",
       "89119   96409607    18000.0      18000.0          18000.0   36 months   \n",
       "15982   94037348    33575.0      33575.0          33575.0   36 months   \n",
       "66842    7295309    29700.0      29700.0          29700.0   60 months   \n",
       "40777   73826047    30000.0      30000.0          30000.0   60 months   \n",
       "44838  132671143    12000.0      12000.0          12000.0   60 months   \n",
       "\n",
       "      int_rate  installment grade sub_grade              emp_title  ...  \\\n",
       "89119   13.49%       610.75     C        C2  Technology Consultant  ...   \n",
       "15982   17.99%      1213.65     D        D2                    CEO  ...   \n",
       "66842   17.10%       739.72     C        C5             home depot  ...   \n",
       "40777   17.27%       749.94     D        D2        Revenue Officer  ...   \n",
       "44838   17.47%       301.28     D        D1                    NaN  ...   \n",
       "\n",
       "      term_numeric debt_to_income  interest_per_loan_amnt loan_amnt_log  \\\n",
       "89119           36       0.189474               7284.6000      9.798183   \n",
       "15982           36       0.459932              18120.4275     10.421567   \n",
       "66842           60       0.450000              25393.5000     10.298936   \n",
       "40777           60       0.372111              25905.0000     10.308986   \n",
       "44838           60       0.303030              10482.0000      9.392745   \n",
       "\n",
       "      grade_encoded loan_amnt_std annual_inc_std loan_amnt_norm  \\\n",
       "89119             2      0.281748       0.171637       0.440204   \n",
       "15982             3      1.926738      -0.080588       0.836514   \n",
       "66842             2      1.517471      -0.160841       0.737913   \n",
       "40777             3      1.549156       0.006785       0.745547   \n",
       "44838             3     -0.351956      -0.463510       0.287532   \n",
       "\n",
       "      annual_inc_norm loan_default  \n",
       "89119        0.008637        False  \n",
       "15982        0.006637         True  \n",
       "66842        0.006000         True  \n",
       "40777        0.007330        False  \n",
       "44838        0.003600        False  \n",
       "\n",
       "[5 rows x 160 columns]"
      ]
     },
     "execution_count": 9,
     "metadata": {},
     "output_type": "execute_result"
    }
   ],
   "source": [
    "import pandas as pd\n",
    "# Read data that was exported from previous session\n",
    "df = pd.read_csv(\"C:/Users/leo/Downloads/Assignment_3/df_out_dsif5.csv\").sample(10000)\n",
    "df.head()"
   ]
  },
  {
   "cell_type": "markdown",
   "id": "6b90d367-1ff7-49d5-aa9e-5f528a0856b0",
   "metadata": {},
   "source": [
    "# Data preprocessing"
   ]
  },
  {
   "cell_type": "code",
   "execution_count": 11,
   "id": "c06c7bc1-bb8b-4336-8fc3-9e0beab0359d",
   "metadata": {},
   "outputs": [
    {
     "name": "stdout",
     "output_type": "stream",
     "text": [
      "Number of features: 20\n"
     ]
    }
   ],
   "source": [
    "# Let's use same features used by model previously built, plus the categorical ones\n",
    "features = ['installment', 'revol_bal', 'recoveries', 'collection_recovery_fee',\n",
    "       'last_fico_range_high', 'last_fico_range_low', 'tot_cur_bal',\n",
    "       'open_acc_6m', 'open_il_24m', 'total_bal_il', 'inq_fi',\n",
    "       'acc_open_past_24mths', 'bc_util', 'mo_sin_old_il_acct',\n",
    "       'percent_bc_gt_75', 'total_il_high_credit_limit', 'last_pymnt_amnt_log',\n",
    "       'last_pymnt_amnt_capped', 'grade_encoded', 'annual_inc_std']\n",
    "\n",
    "X = df[features]\n",
    "y = df['loan_default']\n",
    "\n",
    "print(f\"Number of features: {len(features)}\")"
   ]
  },
  {
   "cell_type": "code",
   "execution_count": 15,
   "id": "220edf64-c926-417c-baa8-c758de595416",
   "metadata": {},
   "outputs": [
    {
     "data": {
      "text/html": [
       "<div>\n",
       "<style scoped>\n",
       "    .dataframe tbody tr th:only-of-type {\n",
       "        vertical-align: middle;\n",
       "    }\n",
       "\n",
       "    .dataframe tbody tr th {\n",
       "        vertical-align: top;\n",
       "    }\n",
       "\n",
       "    .dataframe thead th {\n",
       "        text-align: right;\n",
       "    }\n",
       "</style>\n",
       "<table border=\"1\" class=\"dataframe\">\n",
       "  <thead>\n",
       "    <tr style=\"text-align: right;\">\n",
       "      <th></th>\n",
       "      <th>installment</th>\n",
       "      <th>revol_bal</th>\n",
       "      <th>recoveries</th>\n",
       "      <th>collection_recovery_fee</th>\n",
       "      <th>last_fico_range_high</th>\n",
       "      <th>last_fico_range_low</th>\n",
       "      <th>tot_cur_bal</th>\n",
       "      <th>open_acc_6m</th>\n",
       "      <th>open_il_24m</th>\n",
       "      <th>total_bal_il</th>\n",
       "      <th>inq_fi</th>\n",
       "      <th>acc_open_past_24mths</th>\n",
       "      <th>bc_util</th>\n",
       "      <th>mo_sin_old_il_acct</th>\n",
       "      <th>percent_bc_gt_75</th>\n",
       "      <th>total_il_high_credit_limit</th>\n",
       "      <th>last_pymnt_amnt_log</th>\n",
       "      <th>last_pymnt_amnt_capped</th>\n",
       "      <th>grade_encoded</th>\n",
       "      <th>annual_inc_std</th>\n",
       "    </tr>\n",
       "  </thead>\n",
       "  <tbody>\n",
       "    <tr>\n",
       "      <th>0</th>\n",
       "      <td>0.371886</td>\n",
       "      <td>0.053536</td>\n",
       "      <td>0.000000</td>\n",
       "      <td>0.000000</td>\n",
       "      <td>0.845882</td>\n",
       "      <td>0.846154</td>\n",
       "      <td>0.026688</td>\n",
       "      <td>0.125</td>\n",
       "      <td>0.000000</td>\n",
       "      <td>0.051287</td>\n",
       "      <td>0.000000</td>\n",
       "      <td>0.064516</td>\n",
       "      <td>0.626506</td>\n",
       "      <td>0.138229</td>\n",
       "      <td>0.25</td>\n",
       "      <td>0.077856</td>\n",
       "      <td>0.706662</td>\n",
       "      <td>0.104202</td>\n",
       "      <td>0.333333</td>\n",
       "      <td>0.019588</td>\n",
       "    </tr>\n",
       "    <tr>\n",
       "      <th>1</th>\n",
       "      <td>0.758442</td>\n",
       "      <td>0.027167</td>\n",
       "      <td>0.174545</td>\n",
       "      <td>0.174545</td>\n",
       "      <td>0.651765</td>\n",
       "      <td>0.650888</td>\n",
       "      <td>0.015687</td>\n",
       "      <td>0.000</td>\n",
       "      <td>0.071429</td>\n",
       "      <td>0.033483</td>\n",
       "      <td>0.000000</td>\n",
       "      <td>0.096774</td>\n",
       "      <td>0.418675</td>\n",
       "      <td>0.200864</td>\n",
       "      <td>0.00</td>\n",
       "      <td>0.043397</td>\n",
       "      <td>0.668678</td>\n",
       "      <td>0.069590</td>\n",
       "      <td>0.500000</td>\n",
       "      <td>0.015052</td>\n",
       "    </tr>\n",
       "    <tr>\n",
       "      <th>2</th>\n",
       "      <td>0.454577</td>\n",
       "      <td>0.041585</td>\n",
       "      <td>0.073328</td>\n",
       "      <td>0.073301</td>\n",
       "      <td>0.675294</td>\n",
       "      <td>0.674556</td>\n",
       "      <td>0.083681</td>\n",
       "      <td>NaN</td>\n",
       "      <td>NaN</td>\n",
       "      <td>NaN</td>\n",
       "      <td>NaN</td>\n",
       "      <td>0.129032</td>\n",
       "      <td>0.625000</td>\n",
       "      <td>0.231102</td>\n",
       "      <td>0.60</td>\n",
       "      <td>0.055861</td>\n",
       "      <td>0.622112</td>\n",
       "      <td>0.042415</td>\n",
       "      <td>0.333333</td>\n",
       "      <td>0.013608</td>\n",
       "    </tr>\n",
       "    <tr>\n",
       "      <th>3</th>\n",
       "      <td>0.461130</td>\n",
       "      <td>0.058607</td>\n",
       "      <td>0.000000</td>\n",
       "      <td>0.000000</td>\n",
       "      <td>0.857647</td>\n",
       "      <td>0.857988</td>\n",
       "      <td>0.105137</td>\n",
       "      <td>0.125</td>\n",
       "      <td>0.071429</td>\n",
       "      <td>0.049251</td>\n",
       "      <td>0.041667</td>\n",
       "      <td>0.161290</td>\n",
       "      <td>0.499247</td>\n",
       "      <td>0.336933</td>\n",
       "      <td>0.50</td>\n",
       "      <td>0.110952</td>\n",
       "      <td>0.942070</td>\n",
       "      <td>1.000000</td>\n",
       "      <td>0.500000</td>\n",
       "      <td>0.016623</td>\n",
       "    </tr>\n",
       "    <tr>\n",
       "      <th>4</th>\n",
       "      <td>0.173466</td>\n",
       "      <td>0.008925</td>\n",
       "      <td>0.000000</td>\n",
       "      <td>0.000000</td>\n",
       "      <td>0.781176</td>\n",
       "      <td>0.781065</td>\n",
       "      <td>0.021180</td>\n",
       "      <td>0.125</td>\n",
       "      <td>0.142857</td>\n",
       "      <td>0.066746</td>\n",
       "      <td>0.000000</td>\n",
       "      <td>0.290323</td>\n",
       "      <td>0.128765</td>\n",
       "      <td>0.345572</td>\n",
       "      <td>0.00</td>\n",
       "      <td>0.093347</td>\n",
       "      <td>0.863619</td>\n",
       "      <td>0.552171</td>\n",
       "      <td>0.500000</td>\n",
       "      <td>0.008165</td>\n",
       "    </tr>\n",
       "  </tbody>\n",
       "</table>\n",
       "</div>"
      ],
      "text/plain": [
       "   installment  revol_bal  recoveries  collection_recovery_fee  \\\n",
       "0     0.371886   0.053536    0.000000                 0.000000   \n",
       "1     0.758442   0.027167    0.174545                 0.174545   \n",
       "2     0.454577   0.041585    0.073328                 0.073301   \n",
       "3     0.461130   0.058607    0.000000                 0.000000   \n",
       "4     0.173466   0.008925    0.000000                 0.000000   \n",
       "\n",
       "   last_fico_range_high  last_fico_range_low  tot_cur_bal  open_acc_6m  \\\n",
       "0              0.845882             0.846154     0.026688        0.125   \n",
       "1              0.651765             0.650888     0.015687        0.000   \n",
       "2              0.675294             0.674556     0.083681          NaN   \n",
       "3              0.857647             0.857988     0.105137        0.125   \n",
       "4              0.781176             0.781065     0.021180        0.125   \n",
       "\n",
       "   open_il_24m  total_bal_il    inq_fi  acc_open_past_24mths   bc_util  \\\n",
       "0     0.000000      0.051287  0.000000              0.064516  0.626506   \n",
       "1     0.071429      0.033483  0.000000              0.096774  0.418675   \n",
       "2          NaN           NaN       NaN              0.129032  0.625000   \n",
       "3     0.071429      0.049251  0.041667              0.161290  0.499247   \n",
       "4     0.142857      0.066746  0.000000              0.290323  0.128765   \n",
       "\n",
       "   mo_sin_old_il_acct  percent_bc_gt_75  total_il_high_credit_limit  \\\n",
       "0            0.138229              0.25                    0.077856   \n",
       "1            0.200864              0.00                    0.043397   \n",
       "2            0.231102              0.60                    0.055861   \n",
       "3            0.336933              0.50                    0.110952   \n",
       "4            0.345572              0.00                    0.093347   \n",
       "\n",
       "   last_pymnt_amnt_log  last_pymnt_amnt_capped  grade_encoded  annual_inc_std  \n",
       "0             0.706662                0.104202       0.333333        0.019588  \n",
       "1             0.668678                0.069590       0.500000        0.015052  \n",
       "2             0.622112                0.042415       0.333333        0.013608  \n",
       "3             0.942070                1.000000       0.500000        0.016623  \n",
       "4             0.863619                0.552171       0.500000        0.008165  "
      ]
     },
     "execution_count": 15,
     "metadata": {},
     "output_type": "execute_result"
    }
   ],
   "source": [
    "from sklearn.preprocessing import MinMaxScaler\n",
    "\n",
    "# Apply Min-Max Scaling (alternative: StandardScaler for z-score normalization)\n",
    "scaler = MinMaxScaler()\n",
    "X_scaled = scaler.fit_transform(X)\n",
    "\n",
    "# Convert back to DataFrame with same column names\n",
    "X_scaled_df = pd.DataFrame(X_scaled, columns=features)\n",
    "X_scaled_df.head()"
   ]
  },
  {
   "cell_type": "markdown",
   "id": "ba7c02c1-ed96-4e01-823c-25254cb65c8f",
   "metadata": {},
   "source": [
    "# Building a neural network model"
   ]
  },
  {
   "cell_type": "code",
   "execution_count": 17,
   "id": "9d365ed6-4352-46a5-8a6e-3384a82a3454",
   "metadata": {},
   "outputs": [],
   "source": [
    "from sklearn.model_selection import train_test_split\n",
    "\n",
    "# Split the data into training and testing sets (returns pandas dfs)\n",
    "X_train, X_test, y_train, y_test = train_test_split(X_scaled_df, y, test_size=0.3, random_state=42)"
   ]
  },
  {
   "cell_type": "markdown",
   "id": "1bc63fba-2fac-4cbf-b0ea-a482e8ec35fa",
   "metadata": {},
   "source": [
    "# Starting with a simple architecture"
   ]
  },
  {
   "cell_type": "code",
   "execution_count": 65,
   "id": "0e41e8fb-de1b-41bd-8130-7ec38508b334",
   "metadata": {},
   "outputs": [
    {
     "name": "stdout",
     "output_type": "stream",
     "text": [
      "Requirement already satisfied: tensorflow in c:\\users\\leo\\anaconda3\\lib\\site-packages (2.17.0)\n",
      "Requirement already satisfied: tensorflow-intel==2.17.0 in c:\\users\\leo\\anaconda3\\lib\\site-packages (from tensorflow) (2.17.0)\n",
      "Requirement already satisfied: absl-py>=1.0.0 in c:\\users\\leo\\anaconda3\\lib\\site-packages (from tensorflow-intel==2.17.0->tensorflow) (2.1.0)\n",
      "Requirement already satisfied: astunparse>=1.6.0 in c:\\users\\leo\\anaconda3\\lib\\site-packages (from tensorflow-intel==2.17.0->tensorflow) (1.6.3)\n",
      "Requirement already satisfied: flatbuffers>=24.3.25 in c:\\users\\leo\\anaconda3\\lib\\site-packages (from tensorflow-intel==2.17.0->tensorflow) (24.3.25)\n",
      "Requirement already satisfied: gast!=0.5.0,!=0.5.1,!=0.5.2,>=0.2.1 in c:\\users\\leo\\anaconda3\\lib\\site-packages (from tensorflow-intel==2.17.0->tensorflow) (0.6.0)\n",
      "Requirement already satisfied: google-pasta>=0.1.1 in c:\\users\\leo\\anaconda3\\lib\\site-packages (from tensorflow-intel==2.17.0->tensorflow) (0.2.0)\n",
      "Requirement already satisfied: h5py>=3.10.0 in c:\\users\\leo\\anaconda3\\lib\\site-packages (from tensorflow-intel==2.17.0->tensorflow) (3.11.0)\n",
      "Requirement already satisfied: libclang>=13.0.0 in c:\\users\\leo\\anaconda3\\lib\\site-packages (from tensorflow-intel==2.17.0->tensorflow) (18.1.1)\n",
      "Requirement already satisfied: ml-dtypes<0.5.0,>=0.3.1 in c:\\users\\leo\\anaconda3\\lib\\site-packages (from tensorflow-intel==2.17.0->tensorflow) (0.4.1)\n",
      "Requirement already satisfied: opt-einsum>=2.3.2 in c:\\users\\leo\\anaconda3\\lib\\site-packages (from tensorflow-intel==2.17.0->tensorflow) (3.4.0)\n",
      "Requirement already satisfied: packaging in c:\\users\\leo\\anaconda3\\lib\\site-packages (from tensorflow-intel==2.17.0->tensorflow) (23.2)\n",
      "Requirement already satisfied: protobuf!=4.21.0,!=4.21.1,!=4.21.2,!=4.21.3,!=4.21.4,!=4.21.5,<5.0.0dev,>=3.20.3 in c:\\users\\leo\\anaconda3\\lib\\site-packages (from tensorflow-intel==2.17.0->tensorflow) (3.20.3)\n",
      "Requirement already satisfied: requests<3,>=2.21.0 in c:\\users\\leo\\anaconda3\\lib\\site-packages (from tensorflow-intel==2.17.0->tensorflow) (2.32.2)\n",
      "Requirement already satisfied: setuptools in c:\\users\\leo\\anaconda3\\lib\\site-packages (from tensorflow-intel==2.17.0->tensorflow) (69.5.1)\n",
      "Requirement already satisfied: six>=1.12.0 in c:\\users\\leo\\anaconda3\\lib\\site-packages (from tensorflow-intel==2.17.0->tensorflow) (1.16.0)\n",
      "Requirement already satisfied: termcolor>=1.1.0 in c:\\users\\leo\\anaconda3\\lib\\site-packages (from tensorflow-intel==2.17.0->tensorflow) (2.5.0)\n",
      "Requirement already satisfied: typing-extensions>=3.6.6 in c:\\users\\leo\\anaconda3\\lib\\site-packages (from tensorflow-intel==2.17.0->tensorflow) (4.11.0)\n",
      "Requirement already satisfied: wrapt>=1.11.0 in c:\\users\\leo\\anaconda3\\lib\\site-packages (from tensorflow-intel==2.17.0->tensorflow) (1.14.1)\n",
      "Requirement already satisfied: grpcio<2.0,>=1.24.3 in c:\\users\\leo\\anaconda3\\lib\\site-packages (from tensorflow-intel==2.17.0->tensorflow) (1.66.2)\n",
      "Requirement already satisfied: tensorboard<2.18,>=2.17 in c:\\users\\leo\\anaconda3\\lib\\site-packages (from tensorflow-intel==2.17.0->tensorflow) (2.17.1)\n",
      "Requirement already satisfied: keras>=3.2.0 in c:\\users\\leo\\anaconda3\\lib\\site-packages (from tensorflow-intel==2.17.0->tensorflow) (3.6.0)\n",
      "Requirement already satisfied: numpy<2.0.0,>=1.26.0 in c:\\users\\leo\\anaconda3\\lib\\site-packages (from tensorflow-intel==2.17.0->tensorflow) (1.26.4)\n",
      "Requirement already satisfied: wheel<1.0,>=0.23.0 in c:\\users\\leo\\anaconda3\\lib\\site-packages (from astunparse>=1.6.0->tensorflow-intel==2.17.0->tensorflow) (0.43.0)\n",
      "Requirement already satisfied: rich in c:\\users\\leo\\anaconda3\\lib\\site-packages (from keras>=3.2.0->tensorflow-intel==2.17.0->tensorflow) (13.3.5)\n",
      "Requirement already satisfied: namex in c:\\users\\leo\\anaconda3\\lib\\site-packages (from keras>=3.2.0->tensorflow-intel==2.17.0->tensorflow) (0.0.8)\n",
      "Requirement already satisfied: optree in c:\\users\\leo\\anaconda3\\lib\\site-packages (from keras>=3.2.0->tensorflow-intel==2.17.0->tensorflow) (0.13.0)\n",
      "Requirement already satisfied: charset-normalizer<4,>=2 in c:\\users\\leo\\anaconda3\\lib\\site-packages (from requests<3,>=2.21.0->tensorflow-intel==2.17.0->tensorflow) (2.0.4)\n",
      "Requirement already satisfied: idna<4,>=2.5 in c:\\users\\leo\\anaconda3\\lib\\site-packages (from requests<3,>=2.21.0->tensorflow-intel==2.17.0->tensorflow) (3.7)\n",
      "Requirement already satisfied: urllib3<3,>=1.21.1 in c:\\users\\leo\\anaconda3\\lib\\site-packages (from requests<3,>=2.21.0->tensorflow-intel==2.17.0->tensorflow) (2.2.2)\n",
      "Requirement already satisfied: certifi>=2017.4.17 in c:\\users\\leo\\anaconda3\\lib\\site-packages (from requests<3,>=2.21.0->tensorflow-intel==2.17.0->tensorflow) (2024.7.4)\n",
      "Requirement already satisfied: markdown>=2.6.8 in c:\\users\\leo\\anaconda3\\lib\\site-packages (from tensorboard<2.18,>=2.17->tensorflow-intel==2.17.0->tensorflow) (3.4.1)\n",
      "Requirement already satisfied: tensorboard-data-server<0.8.0,>=0.7.0 in c:\\users\\leo\\anaconda3\\lib\\site-packages (from tensorboard<2.18,>=2.17->tensorflow-intel==2.17.0->tensorflow) (0.7.2)\n",
      "Requirement already satisfied: werkzeug>=1.0.1 in c:\\users\\leo\\anaconda3\\lib\\site-packages (from tensorboard<2.18,>=2.17->tensorflow-intel==2.17.0->tensorflow) (3.0.3)\n",
      "Requirement already satisfied: MarkupSafe>=2.1.1 in c:\\users\\leo\\anaconda3\\lib\\site-packages (from werkzeug>=1.0.1->tensorboard<2.18,>=2.17->tensorflow-intel==2.17.0->tensorflow) (2.1.3)\n",
      "Requirement already satisfied: markdown-it-py<3.0.0,>=2.2.0 in c:\\users\\leo\\anaconda3\\lib\\site-packages (from rich->keras>=3.2.0->tensorflow-intel==2.17.0->tensorflow) (2.2.0)\n",
      "Requirement already satisfied: pygments<3.0.0,>=2.13.0 in c:\\users\\leo\\anaconda3\\lib\\site-packages (from rich->keras>=3.2.0->tensorflow-intel==2.17.0->tensorflow) (2.15.1)\n",
      "Requirement already satisfied: mdurl~=0.1 in c:\\users\\leo\\anaconda3\\lib\\site-packages (from markdown-it-py<3.0.0,>=2.2.0->rich->keras>=3.2.0->tensorflow-intel==2.17.0->tensorflow) (0.1.0)\n"
     ]
    }
   ],
   "source": [
    "!pip install tensorflow"
   ]
  },
  {
   "cell_type": "code",
   "execution_count": 19,
   "id": "f715ae66-49d9-4c11-8597-3a2afc3dcca1",
   "metadata": {},
   "outputs": [
    {
     "name": "stderr",
     "output_type": "stream",
     "text": [
      "C:\\Users\\leo\\anaconda3\\Lib\\site-packages\\keras\\src\\layers\\core\\dense.py:87: UserWarning: Do not pass an `input_shape`/`input_dim` argument to a layer. When using Sequential models, prefer using an `Input(shape)` object as the first layer in the model instead.\n",
      "  super().__init__(activity_regularizer=activity_regularizer, **kwargs)\n"
     ]
    }
   ],
   "source": [
    "from tensorflow.keras.models import Sequential\n",
    "from tensorflow.keras.layers import Dense\n",
    "\n",
    "# Initialize the model (empty intiially)\n",
    "model_3 = Sequential()\n",
    "\n",
    "# Adding layers to our model, which are like different parts of the brain.\n",
    "# Each layer has \"neurons\" (like tiny decision-makers):\n",
    "\n",
    "# Add the first part of our brain that looks at the data\n",
    "model_3.add(Dense(16, input_dim=X_scaled_df.shape[1], activation='relu'))\n",
    "\n",
    "# smaller brain part that processes what the first layer has figured out.\n",
    "model_3.add(Dense(8, activation='relu'))\n",
    "\n",
    "#This is like the brain's decision-making part, where it makes a yes/no decision (like \"Will this person pay back their loan?\").\n",
    "model_3.add(Dense(1, activation='sigmoid'))\n",
    "\n",
    "# Compile the model\n",
    "model_3.compile(\n",
    "    optimizer='adam', # like the brain’s coach, guiding it to get better and better at its task\n",
    "    loss='binary_crossentropy', # how the brain measures its mistakes,  for optimisation\n",
    "    metrics=['accuracy', 'Precision', 'Recall', 'AUC']\n",
    "    )"
   ]
  },
  {
   "cell_type": "code",
   "execution_count": 35,
   "id": "3fcf8abd-6de5-42b3-b039-67ac17d21b73",
   "metadata": {},
   "outputs": [
    {
     "name": "stdout",
     "output_type": "stream",
     "text": [
      "Epoch 1/10\n",
      "\u001b[1m175/175\u001b[0m \u001b[32m━━━━━━━━━━━━━━━━━━━━\u001b[0m\u001b[37m\u001b[0m \u001b[1m4s\u001b[0m 6ms/step - AUC: 0.4881 - Precision: 0.1154 - Recall: 0.0256 - accuracy: 0.8536 - loss: 0.6605 - val_AUC: 0.5000 - val_Precision: 0.0000e+00 - val_Recall: 0.0000e+00 - val_accuracy: 0.8729 - val_loss: 0.5468\n",
      "Epoch 2/10\n",
      "\u001b[1m175/175\u001b[0m \u001b[32m━━━━━━━━━━━━━━━━━━━━\u001b[0m\u001b[37m\u001b[0m \u001b[1m0s\u001b[0m 3ms/step - AUC: 0.5091 - Precision: 0.0000e+00 - Recall: 0.0000e+00 - accuracy: 0.8691 - loss: 0.5132 - val_AUC: 0.5000 - val_Precision: 0.0000e+00 - val_Recall: 0.0000e+00 - val_accuracy: 0.8729 - val_loss: 0.4292\n",
      "Epoch 3/10\n",
      "\u001b[1m175/175\u001b[0m \u001b[32m━━━━━━━━━━━━━━━━━━━━\u001b[0m\u001b[37m\u001b[0m \u001b[1m1s\u001b[0m 3ms/step - AUC: 0.4932 - Precision: 0.0000e+00 - Recall: 0.0000e+00 - accuracy: 0.8743 - loss: 0.4137 - val_AUC: 0.5000 - val_Precision: 0.0000e+00 - val_Recall: 0.0000e+00 - val_accuracy: 0.8729 - val_loss: 0.3899\n",
      "Epoch 4/10\n",
      "\u001b[1m175/175\u001b[0m \u001b[32m━━━━━━━━━━━━━━━━━━━━\u001b[0m\u001b[37m\u001b[0m \u001b[1m0s\u001b[0m 2ms/step - AUC: 0.4977 - Precision: 0.0000e+00 - Recall: 0.0000e+00 - accuracy: 0.8715 - loss: 0.3890 - val_AUC: 0.5000 - val_Precision: 0.0000e+00 - val_Recall: 0.0000e+00 - val_accuracy: 0.8729 - val_loss: 0.3820\n",
      "Epoch 5/10\n",
      "\u001b[1m175/175\u001b[0m \u001b[32m━━━━━━━━━━━━━━━━━━━━\u001b[0m\u001b[37m\u001b[0m \u001b[1m1s\u001b[0m 3ms/step - AUC: 0.4911 - Precision: 0.0000e+00 - Recall: 0.0000e+00 - accuracy: 0.8654 - loss: 0.3953 - val_AUC: 0.5000 - val_Precision: 0.0000e+00 - val_Recall: 0.0000e+00 - val_accuracy: 0.8729 - val_loss: 0.3810\n",
      "Epoch 6/10\n",
      "\u001b[1m175/175\u001b[0m \u001b[32m━━━━━━━━━━━━━━━━━━━━\u001b[0m\u001b[37m\u001b[0m \u001b[1m1s\u001b[0m 3ms/step - AUC: 0.4926 - Precision: 0.0000e+00 - Recall: 0.0000e+00 - accuracy: 0.8760 - loss: 0.3749 - val_AUC: 0.5000 - val_Precision: 0.0000e+00 - val_Recall: 0.0000e+00 - val_accuracy: 0.8729 - val_loss: 0.3810\n",
      "Epoch 7/10\n",
      "\u001b[1m175/175\u001b[0m \u001b[32m━━━━━━━━━━━━━━━━━━━━\u001b[0m\u001b[37m\u001b[0m \u001b[1m0s\u001b[0m 3ms/step - AUC: 0.5020 - Precision: 0.0000e+00 - Recall: 0.0000e+00 - accuracy: 0.8726 - loss: 0.3815 - val_AUC: 0.5000 - val_Precision: 0.0000e+00 - val_Recall: 0.0000e+00 - val_accuracy: 0.8729 - val_loss: 0.3810\n",
      "Epoch 8/10\n",
      "\u001b[1m175/175\u001b[0m \u001b[32m━━━━━━━━━━━━━━━━━━━━\u001b[0m\u001b[37m\u001b[0m \u001b[1m0s\u001b[0m 3ms/step - AUC: 0.4963 - Precision: 0.0000e+00 - Recall: 0.0000e+00 - accuracy: 0.8707 - loss: 0.3851 - val_AUC: 0.5000 - val_Precision: 0.0000e+00 - val_Recall: 0.0000e+00 - val_accuracy: 0.8729 - val_loss: 0.3809\n",
      "Epoch 9/10\n",
      "\u001b[1m175/175\u001b[0m \u001b[32m━━━━━━━━━━━━━━━━━━━━\u001b[0m\u001b[37m\u001b[0m \u001b[1m1s\u001b[0m 3ms/step - AUC: 0.4936 - Precision: 0.0000e+00 - Recall: 0.0000e+00 - accuracy: 0.8701 - loss: 0.3863 - val_AUC: 0.5000 - val_Precision: 0.0000e+00 - val_Recall: 0.0000e+00 - val_accuracy: 0.8729 - val_loss: 0.3809\n",
      "Epoch 10/10\n",
      "\u001b[1m175/175\u001b[0m \u001b[32m━━━━━━━━━━━━━━━━━━━━\u001b[0m\u001b[37m\u001b[0m \u001b[1m0s\u001b[0m 2ms/step - AUC: 0.4997 - Precision: 0.0000e+00 - Recall: 0.0000e+00 - accuracy: 0.8713 - loss: 0.3839 - val_AUC: 0.5000 - val_Precision: 0.0000e+00 - val_Recall: 0.0000e+00 - val_accuracy: 0.8729 - val_loss: 0.3810\n"
     ]
    }
   ],
   "source": [
    "# Train the model\n",
    "history = model_3.fit(X_train, y_train, epochs=10, batch_size=32, validation_split=0.2)"
   ]
  },
  {
   "cell_type": "code",
   "execution_count": 37,
   "id": "a3efa1a7-7b53-4ccd-b318-eb27e31de2a2",
   "metadata": {},
   "outputs": [
    {
     "name": "stdout",
     "output_type": "stream",
     "text": [
      "\u001b[1m94/94\u001b[0m \u001b[32m━━━━━━━━━━━━━━━━━━━━\u001b[0m\u001b[37m\u001b[0m \u001b[1m0s\u001b[0m 2ms/step\n"
     ]
    }
   ],
   "source": [
    "# Compare to the model in the previous session\n",
    "\n",
    "# Make predictions\n",
    "y_prob = model_3.predict(X_test)\n",
    "y_pred = (y_prob > 0.5)"
   ]
  },
  {
   "cell_type": "code",
   "execution_count": 39,
   "id": "2baa2958-ca71-4bb3-8d81-58a4864d156a",
   "metadata": {},
   "outputs": [
    {
     "name": "stdout",
     "output_type": "stream",
     "text": [
      "Accuracy: 0.8733333333333333\n",
      "Precision: 0.0\n",
      "Recall: 0.0\n",
      "F1-Score: 0.0\n",
      "ROC-AUC: 0.5\n",
      "Confusion Matrix:\n",
      "[[2620    0]\n",
      " [ 380    0]]\n"
     ]
    },
    {
     "name": "stderr",
     "output_type": "stream",
     "text": [
      "C:\\Users\\leo\\anaconda3\\Lib\\site-packages\\sklearn\\metrics\\_classification.py:1509: UndefinedMetricWarning: Precision is ill-defined and being set to 0.0 due to no predicted samples. Use `zero_division` parameter to control this behavior.\n",
      "  _warn_prf(average, modifier, f\"{metric.capitalize()} is\", len(result))\n"
     ]
    }
   ],
   "source": [
    "from dsif6utility import model_evaluation_report\n",
    "model_evaluation_report(X_test, y_test, y_pred, y_prob)"
   ]
  },
  {
   "cell_type": "markdown",
   "id": "6eb8ce28-e0eb-4583-a8d5-efb7983a0d3c",
   "metadata": {},
   "source": [
    "# Interpreting outputs produced"
   ]
  },
  {
   "cell_type": "code",
   "execution_count": 41,
   "id": "17191a47-4a0a-452b-a22e-08169f6835e1",
   "metadata": {},
   "outputs": [
    {
     "data": {
      "text/plain": [
       "count    3.000000e+03\n",
       "mean     1.302571e-01\n",
       "std      5.812421e-07\n",
       "min      1.302571e-01\n",
       "0%       1.302571e-01\n",
       "1%       1.302571e-01\n",
       "10%      1.302571e-01\n",
       "25%      1.302571e-01\n",
       "50%      1.302571e-01\n",
       "75%      1.302571e-01\n",
       "90%      1.302571e-01\n",
       "95%      1.302571e-01\n",
       "99%      1.302571e-01\n",
       "100%     1.302571e-01\n",
       "max      1.302571e-01\n",
       "Name: prob, dtype: float64"
      ]
     },
     "execution_count": 41,
     "metadata": {},
     "output_type": "execute_result"
    }
   ],
   "source": [
    "y_prob = pd.DataFrame(y_prob, columns=[\"prob\"])\n",
    "\n",
    "y_prob.prob.describe(percentiles = [i / 100 for i in [0, 1, 10, 25, 50, 75, 90, 95, 99, 100]])"
   ]
  },
  {
   "cell_type": "markdown",
   "id": "caf4b538-1884-454f-b2ef-aa367516fcf9",
   "metadata": {},
   "source": [
    "# Detecting and dealing with overfitting in NNs"
   ]
  },
  {
   "cell_type": "code",
   "execution_count": 43,
   "id": "2782d86f-10bd-4bda-b514-e97af982b25f",
   "metadata": {},
   "outputs": [
    {
     "data": {
      "image/png": "[encoded data removed]",
      "text/plain": [
       "<Figure size 640x480 with 1 Axes>"
      ]
     },
     "metadata": {},
     "output_type": "display_data"
    },
    {
     "data": {
      "image/png": "[encoded data removed]",
      "text/plain": [
       "<Figure size 640x480 with 1 Axes>"
      ]
     },
     "metadata": {},
     "output_type": "display_data"
    }
   ],
   "source": [
    "def plot_training_vs_overfitting(history):\n",
    "    \"\"\"Plot training and validation accuracy to detect overfitting (when gap between 2 is detected)\"\"\"\n",
    "    import matplotlib.pyplot as plt\n",
    "    \n",
    "    # Plot accuracy\n",
    "    plt.plot(history.history['accuracy'], label='Train Accuracy')\n",
    "    plt.plot(history.history['val_accuracy'], label='Validation Accuracy')\n",
    "    plt.legend()\n",
    "    plt.show()\n",
    "\n",
    "    # Plot loss\n",
    "    plt.plot(history.history['loss'], label='Train Loss')\n",
    "    plt.plot(history.history['val_loss'], label='Validation Loss')\n",
    "    plt.legend()\n",
    "    plt.show()\n",
    "    \n",
    "plot_training_vs_overfitting(history)"
   ]
  },
  {
   "cell_type": "markdown",
   "id": "cd036dd1-0226-4e57-aaf7-d0caed997cb6",
   "metadata": {},
   "source": [
    "# Add a dropout layer\n",
    "Add a hidden layer"
   ]
  },
  {
   "cell_type": "code",
   "execution_count": 48,
   "id": "30aef7e0-de46-4d02-a2d4-d59f130c7f30",
   "metadata": {},
   "outputs": [
    {
     "name": "stderr",
     "output_type": "stream",
     "text": [
      "C:\\Users\\leo\\anaconda3\\Lib\\site-packages\\keras\\src\\layers\\core\\dense.py:87: UserWarning: Do not pass an `input_shape`/`input_dim` argument to a layer. When using Sequential models, prefer using an `Input(shape)` object as the first layer in the model instead.\n",
      "  super().__init__(activity_regularizer=activity_regularizer, **kwargs)\n"
     ]
    }
   ],
   "source": [
    "from tensorflow.keras.layers import Dropout\n",
    "\n",
    "# Initialize the model\n",
    "model4 = Sequential()\n",
    "\n",
    "# First hidden layer with Dropout\n",
    "model4.add(Dense(16, input_dim=X_scaled_df.shape[1], activation='relu'))\n",
    "model4.add(Dropout(0.5))  # Drop 50% of neurons\n",
    "\n",
    "# Second hidden layer with Dropout\n",
    "model4.add(Dense(8, activation='relu'))\n",
    "model4.add(Dropout(0.5))  # Drop 50% of neurons\n",
    "\n",
    "# Output layer\n",
    "model4.add(Dense(1, activation='sigmoid'))\n",
    "\n",
    "# Compile the model\n",
    "model4.compile(\n",
    "    optimizer='adam',\n",
    "    loss='binary_crossentropy',\n",
    "    metrics=['accuracy', 'Precision', 'Recall', 'AUC']\n",
    ")"
   ]
  },
  {
   "cell_type": "code",
   "execution_count": 50,
   "id": "011eff02-72e3-4462-a1c1-13098ef67be8",
   "metadata": {},
   "outputs": [
    {
     "name": "stdout",
     "output_type": "stream",
     "text": [
      "Epoch 1/10\n",
      "\u001b[1m175/175\u001b[0m \u001b[32m━━━━━━━━━━━━━━━━━━━━\u001b[0m\u001b[37m\u001b[0m \u001b[1m4s\u001b[0m 7ms/step - AUC: 0.4965 - Precision: 0.1429 - Recall: 0.0071 - accuracy: 0.8692 - loss: 0.6487 - val_AUC: 0.5000 - val_Precision: 0.0000e+00 - val_Recall: 0.0000e+00 - val_accuracy: 0.8729 - val_loss: 0.5300\n",
      "Epoch 2/10\n",
      "\u001b[1m175/175\u001b[0m \u001b[32m━━━━━━━━━━━━━━━━━━━━\u001b[0m\u001b[37m\u001b[0m \u001b[1m0s\u001b[0m 3ms/step - AUC: 0.4763 - Precision: 0.0000e+00 - Recall: 0.0000e+00 - accuracy: 0.8642 - loss: 0.5165 - val_AUC: 0.5000 - val_Precision: 0.0000e+00 - val_Recall: 0.0000e+00 - val_accuracy: 0.8729 - val_loss: 0.4309\n",
      "Epoch 3/10\n",
      "\u001b[1m175/175\u001b[0m \u001b[32m━━━━━━━━━━━━━━━━━━━━\u001b[0m\u001b[37m\u001b[0m \u001b[1m0s\u001b[0m 2ms/step - AUC: 0.5076 - Precision: 0.0000e+00 - Recall: 0.0000e+00 - accuracy: 0.8731 - loss: 0.4420 - val_AUC: 0.5000 - val_Precision: 0.0000e+00 - val_Recall: 0.0000e+00 - val_accuracy: 0.8729 - val_loss: 0.3979\n",
      "Epoch 4/10\n",
      "\u001b[1m175/175\u001b[0m \u001b[32m━━━━━━━━━━━━━━━━━━━━\u001b[0m\u001b[37m\u001b[0m \u001b[1m0s\u001b[0m 2ms/step - AUC: 0.4968 - Precision: 0.0000e+00 - Recall: 0.0000e+00 - accuracy: 0.8760 - loss: 0.4230 - val_AUC: 0.5000 - val_Precision: 0.0000e+00 - val_Recall: 0.0000e+00 - val_accuracy: 0.8729 - val_loss: 0.3882\n",
      "Epoch 5/10\n",
      "\u001b[1m175/175\u001b[0m \u001b[32m━━━━━━━━━━━━━━━━━━━━\u001b[0m\u001b[37m\u001b[0m \u001b[1m0s\u001b[0m 3ms/step - AUC: 0.4880 - Precision: 0.0000e+00 - Recall: 0.0000e+00 - accuracy: 0.8756 - loss: 0.4189 - val_AUC: 0.5000 - val_Precision: 0.0000e+00 - val_Recall: 0.0000e+00 - val_accuracy: 0.8729 - val_loss: 0.3855\n",
      "Epoch 6/10\n",
      "\u001b[1m175/175\u001b[0m \u001b[32m━━━━━━━━━━━━━━━━━━━━\u001b[0m\u001b[37m\u001b[0m \u001b[1m1s\u001b[0m 3ms/step - AUC: 0.5071 - Precision: 0.0000e+00 - Recall: 0.0000e+00 - accuracy: 0.8765 - loss: 0.4071 - val_AUC: 0.5000 - val_Precision: 0.0000e+00 - val_Recall: 0.0000e+00 - val_accuracy: 0.8729 - val_loss: 0.3847\n",
      "Epoch 7/10\n",
      "\u001b[1m175/175\u001b[0m \u001b[32m━━━━━━━━━━━━━━━━━━━━\u001b[0m\u001b[37m\u001b[0m \u001b[1m1s\u001b[0m 3ms/step - AUC: 0.5196 - Precision: 0.0000e+00 - Recall: 0.0000e+00 - accuracy: 0.8703 - loss: 0.4127 - val_AUC: 0.5000 - val_Precision: 0.0000e+00 - val_Recall: 0.0000e+00 - val_accuracy: 0.8729 - val_loss: 0.3840\n",
      "Epoch 8/10\n",
      "\u001b[1m175/175\u001b[0m \u001b[32m━━━━━━━━━━━━━━━━━━━━\u001b[0m\u001b[37m\u001b[0m \u001b[1m1s\u001b[0m 3ms/step - AUC: 0.4944 - Precision: 0.0000e+00 - Recall: 0.0000e+00 - accuracy: 0.8744 - loss: 0.4071 - val_AUC: 0.5000 - val_Precision: 0.0000e+00 - val_Recall: 0.0000e+00 - val_accuracy: 0.8729 - val_loss: 0.3840\n",
      "Epoch 9/10\n",
      "\u001b[1m175/175\u001b[0m \u001b[32m━━━━━━━━━━━━━━━━━━━━\u001b[0m\u001b[37m\u001b[0m \u001b[1m1s\u001b[0m 3ms/step - AUC: 0.5189 - Precision: 0.0000e+00 - Recall: 0.0000e+00 - accuracy: 0.8696 - loss: 0.4075 - val_AUC: 0.5000 - val_Precision: 0.0000e+00 - val_Recall: 0.0000e+00 - val_accuracy: 0.8729 - val_loss: 0.3825\n",
      "Epoch 10/10\n",
      "\u001b[1m175/175\u001b[0m \u001b[32m━━━━━━━━━━━━━━━━━━━━\u001b[0m\u001b[37m\u001b[0m \u001b[1m1s\u001b[0m 4ms/step - AUC: 0.4721 - Precision: 0.0000e+00 - Recall: 0.0000e+00 - accuracy: 0.8762 - loss: 0.4056 - val_AUC: 0.5000 - val_Precision: 0.0000e+00 - val_Recall: 0.0000e+00 - val_accuracy: 0.8729 - val_loss: 0.3835\n"
     ]
    },
    {
     "data": {
      "image/png": "[encoded data removed]",
      "text/plain": [
       "<Figure size 640x480 with 1 Axes>"
      ]
     },
     "metadata": {},
     "output_type": "display_data"
    },
    {
     "data": {
      "image/png": "[encoded data removed]",
      "text/plain": [
       "<Figure size 640x480 with 1 Axes>"
      ]
     },
     "metadata": {},
     "output_type": "display_data"
    }
   ],
   "source": [
    "# Train the model\n",
    "history2 = model4.fit(X_train, y_train, epochs=10, batch_size=32, validation_split=0.2)\n",
    "plot_training_vs_overfitting(history2)"
   ]
  },
  {
   "cell_type": "markdown",
   "id": "60ec01a4-3a99-4cda-b76c-dcecd9cf2273",
   "metadata": {},
   "source": [
    "# Early Stopping\n",
    "**Early stopping halts training once the performance on the validation data stops improving. This prevents the model from overfitting after a certain point.**"
   ]
  },
  {
   "cell_type": "code",
   "execution_count": 59,
   "id": "317b444d-d5b2-4626-abc4-31114742dcf5",
   "metadata": {},
   "outputs": [
    {
     "name": "stdout",
     "output_type": "stream",
     "text": [
      "Epoch 1/50\n",
      "\u001b[1m219/219\u001b[0m \u001b[32m━━━━━━━━━━━━━━━━━━━━\u001b[0m\u001b[37m\u001b[0m \u001b[1m1s\u001b[0m 4ms/step - AUC: 0.4959 - Precision: 0.0000e+00 - Recall: 0.0000e+00 - accuracy: 0.8749 - loss: 0.3771 - val_AUC: 0.5000 - val_Precision: 0.0000e+00 - val_Recall: 0.0000e+00 - val_accuracy: 0.8733 - val_loss: 0.3801\n",
      "Epoch 2/50\n",
      "\u001b[1m 67/219\u001b[0m \u001b[32m━━━━━━\u001b[0m\u001b[37m━━━━━━━━━━━━━━\u001b[0m \u001b[1m0s\u001b[0m 2ms/step - AUC: 0.4990 - Precision: 0.0000e+00 - Recall: 0.0000e+00 - accuracy: 0.8830 - loss: 0.3616"
     ]
    },
    {
     "name": "stderr",
     "output_type": "stream",
     "text": [
      "C:\\Users\\leo\\anaconda3\\Lib\\site-packages\\keras\\src\\callbacks\\early_stopping.py:155: UserWarning: Early stopping conditioned on metric `val_precision` which is not available. Available metrics are: AUC,Precision,Recall,accuracy,loss,val_AUC,val_Precision,val_Recall,val_accuracy,val_loss\n",
      "  current = self.get_monitor_value(logs)\n"
     ]
    },
    {
     "name": "stdout",
     "output_type": "stream",
     "text": [
      "\u001b[1m219/219\u001b[0m \u001b[32m━━━━━━━━━━━━━━━━━━━━\u001b[0m\u001b[37m\u001b[0m \u001b[1m1s\u001b[0m 3ms/step - AUC: 0.4973 - Precision: 0.0000e+00 - Recall: 0.0000e+00 - accuracy: 0.8772 - loss: 0.3728 - val_AUC: 0.5000 - val_Precision: 0.0000e+00 - val_Recall: 0.0000e+00 - val_accuracy: 0.8733 - val_loss: 0.3800\n",
      "Epoch 3/50\n",
      "\u001b[1m219/219\u001b[0m \u001b[32m━━━━━━━━━━━━━━━━━━━━\u001b[0m\u001b[37m\u001b[0m \u001b[1m1s\u001b[0m 3ms/step - AUC: 0.4943 - Precision: 0.0000e+00 - Recall: 0.0000e+00 - accuracy: 0.8737 - loss: 0.3794 - val_AUC: 0.5000 - val_Precision: 0.0000e+00 - val_Recall: 0.0000e+00 - val_accuracy: 0.8733 - val_loss: 0.3800\n",
      "Epoch 4/50\n",
      "\u001b[1m219/219\u001b[0m \u001b[32m━━━━━━━━━━━━━━━━━━━━\u001b[0m\u001b[37m\u001b[0m \u001b[1m1s\u001b[0m 3ms/step - AUC: 0.4901 - Precision: 0.0000e+00 - Recall: 0.0000e+00 - accuracy: 0.8708 - loss: 0.3850 - val_AUC: 0.5000 - val_Precision: 0.0000e+00 - val_Recall: 0.0000e+00 - val_accuracy: 0.8733 - val_loss: 0.3800\n",
      "Epoch 5/50\n",
      "\u001b[1m219/219\u001b[0m \u001b[32m━━━━━━━━━━━━━━━━━━━━\u001b[0m\u001b[37m\u001b[0m \u001b[1m1s\u001b[0m 3ms/step - AUC: 0.5002 - Precision: 0.0000e+00 - Recall: 0.0000e+00 - accuracy: 0.8681 - loss: 0.3902 - val_AUC: 0.5000 - val_Precision: 0.0000e+00 - val_Recall: 0.0000e+00 - val_accuracy: 0.8733 - val_loss: 0.3801\n",
      "Epoch 6/50\n",
      "\u001b[1m219/219\u001b[0m \u001b[32m━━━━━━━━━━━━━━━━━━━━\u001b[0m\u001b[37m\u001b[0m \u001b[1m1s\u001b[0m 3ms/step - AUC: 0.4853 - Precision: 0.0000e+00 - Recall: 0.0000e+00 - accuracy: 0.8680 - loss: 0.3904 - val_AUC: 0.5000 - val_Precision: 0.0000e+00 - val_Recall: 0.0000e+00 - val_accuracy: 0.8733 - val_loss: 0.3800\n",
      "Epoch 7/50\n",
      "\u001b[1m219/219\u001b[0m \u001b[32m━━━━━━━━━━━━━━━━━━━━\u001b[0m\u001b[37m\u001b[0m \u001b[1m1s\u001b[0m 3ms/step - AUC: 0.4966 - Precision: 0.0000e+00 - Recall: 0.0000e+00 - accuracy: 0.8653 - loss: 0.3957 - val_AUC: 0.5000 - val_Precision: 0.0000e+00 - val_Recall: 0.0000e+00 - val_accuracy: 0.8733 - val_loss: 0.3800\n",
      "Epoch 8/50\n",
      "\u001b[1m219/219\u001b[0m \u001b[32m━━━━━━━━━━━━━━━━━━━━\u001b[0m\u001b[37m\u001b[0m \u001b[1m1s\u001b[0m 5ms/step - AUC: 0.4988 - Precision: 0.0000e+00 - Recall: 0.0000e+00 - accuracy: 0.8635 - loss: 0.3989 - val_AUC: 0.5000 - val_Precision: 0.0000e+00 - val_Recall: 0.0000e+00 - val_accuracy: 0.8733 - val_loss: 0.3801\n",
      "Epoch 9/50\n",
      "\u001b[1m219/219\u001b[0m \u001b[32m━━━━━━━━━━━━━━━━━━━━\u001b[0m\u001b[37m\u001b[0m \u001b[1m1s\u001b[0m 3ms/step - AUC: 0.4733 - Precision: 0.0000e+00 - Recall: 0.0000e+00 - accuracy: 0.8606 - loss: 0.4051 - val_AUC: 0.5000 - val_Precision: 0.0000e+00 - val_Recall: 0.0000e+00 - val_accuracy: 0.8733 - val_loss: 0.3800\n",
      "Epoch 10/50\n",
      "\u001b[1m219/219\u001b[0m \u001b[32m━━━━━━━━━━━━━━━━━━━━\u001b[0m\u001b[37m\u001b[0m \u001b[1m1s\u001b[0m 3ms/step - AUC: 0.4924 - Precision: 0.0000e+00 - Recall: 0.0000e+00 - accuracy: 0.8696 - loss: 0.3875 - val_AUC: 0.5000 - val_Precision: 0.0000e+00 - val_Recall: 0.0000e+00 - val_accuracy: 0.8733 - val_loss: 0.3800\n",
      "Epoch 11/50\n",
      "\u001b[1m219/219\u001b[0m \u001b[32m━━━━━━━━━━━━━━━━━━━━\u001b[0m\u001b[37m\u001b[0m \u001b[1m1s\u001b[0m 3ms/step - AUC: 0.4920 - Precision: 0.0000e+00 - Recall: 0.0000e+00 - accuracy: 0.8831 - loss: 0.3612 - val_AUC: 0.5000 - val_Precision: 0.0000e+00 - val_Recall: 0.0000e+00 - val_accuracy: 0.8733 - val_loss: 0.3802\n",
      "Epoch 12/50\n",
      "\u001b[1m219/219\u001b[0m \u001b[32m━━━━━━━━━━━━━━━━━━━━\u001b[0m\u001b[37m\u001b[0m \u001b[1m1s\u001b[0m 3ms/step - AUC: 0.4899 - Precision: 0.0000e+00 - Recall: 0.0000e+00 - accuracy: 0.8661 - loss: 0.3937 - val_AUC: 0.5000 - val_Precision: 0.0000e+00 - val_Recall: 0.0000e+00 - val_accuracy: 0.8733 - val_loss: 0.3800\n",
      "Epoch 13/50\n",
      "\u001b[1m219/219\u001b[0m \u001b[32m━━━━━━━━━━━━━━━━━━━━\u001b[0m\u001b[37m\u001b[0m \u001b[1m1s\u001b[0m 3ms/step - AUC: 0.4977 - Precision: 0.0000e+00 - Recall: 0.0000e+00 - accuracy: 0.8659 - loss: 0.3944 - val_AUC: 0.5000 - val_Precision: 0.0000e+00 - val_Recall: 0.0000e+00 - val_accuracy: 0.8733 - val_loss: 0.3800\n",
      "Epoch 14/50\n",
      "\u001b[1m219/219\u001b[0m \u001b[32m━━━━━━━━━━━━━━━━━━━━\u001b[0m\u001b[37m\u001b[0m \u001b[1m1s\u001b[0m 3ms/step - AUC: 0.4817 - Precision: 0.0000e+00 - Recall: 0.0000e+00 - accuracy: 0.8730 - loss: 0.3808 - val_AUC: 0.5000 - val_Precision: 0.0000e+00 - val_Recall: 0.0000e+00 - val_accuracy: 0.8733 - val_loss: 0.3800\n",
      "Epoch 15/50\n",
      "\u001b[1m219/219\u001b[0m \u001b[32m━━━━━━━━━━━━━━━━━━━━\u001b[0m\u001b[37m\u001b[0m \u001b[1m1s\u001b[0m 5ms/step - AUC: 0.4901 - Precision: 0.0000e+00 - Recall: 0.0000e+00 - accuracy: 0.8734 - loss: 0.3801 - val_AUC: 0.5000 - val_Precision: 0.0000e+00 - val_Recall: 0.0000e+00 - val_accuracy: 0.8733 - val_loss: 0.3801\n",
      "Epoch 16/50\n",
      "\u001b[1m219/219\u001b[0m \u001b[32m━━━━━━━━━━━━━━━━━━━━\u001b[0m\u001b[37m\u001b[0m \u001b[1m1s\u001b[0m 3ms/step - AUC: 0.4965 - Precision: 0.0000e+00 - Recall: 0.0000e+00 - accuracy: 0.8724 - loss: 0.3820 - val_AUC: 0.5000 - val_Precision: 0.0000e+00 - val_Recall: 0.0000e+00 - val_accuracy: 0.8733 - val_loss: 0.3800\n",
      "Epoch 17/50\n",
      "\u001b[1m219/219\u001b[0m \u001b[32m━━━━━━━━━━━━━━━━━━━━\u001b[0m\u001b[37m\u001b[0m \u001b[1m1s\u001b[0m 4ms/step - AUC: 0.4880 - Precision: 0.0000e+00 - Recall: 0.0000e+00 - accuracy: 0.8746 - loss: 0.3776 - val_AUC: 0.5000 - val_Precision: 0.0000e+00 - val_Recall: 0.0000e+00 - val_accuracy: 0.8733 - val_loss: 0.3801\n",
      "Epoch 18/50\n",
      "\u001b[1m219/219\u001b[0m \u001b[32m━━━━━━━━━━━━━━━━━━━━\u001b[0m\u001b[37m\u001b[0m \u001b[1m1s\u001b[0m 4ms/step - AUC: 0.4998 - Precision: 0.0000e+00 - Recall: 0.0000e+00 - accuracy: 0.8720 - loss: 0.3827 - val_AUC: 0.5000 - val_Precision: 0.0000e+00 - val_Recall: 0.0000e+00 - val_accuracy: 0.8733 - val_loss: 0.3800\n",
      "Epoch 19/50\n",
      "\u001b[1m219/219\u001b[0m \u001b[32m━━━━━━━━━━━━━━━━━━━━\u001b[0m\u001b[37m\u001b[0m \u001b[1m1s\u001b[0m 4ms/step - AUC: 0.4861 - Precision: 0.0000e+00 - Recall: 0.0000e+00 - accuracy: 0.8753 - loss: 0.3764 - val_AUC: 0.5000 - val_Precision: 0.0000e+00 - val_Recall: 0.0000e+00 - val_accuracy: 0.8733 - val_loss: 0.3801\n",
      "Epoch 20/50\n",
      "\u001b[1m219/219\u001b[0m \u001b[32m━━━━━━━━━━━━━━━━━━━━\u001b[0m\u001b[37m\u001b[0m \u001b[1m1s\u001b[0m 3ms/step - AUC: 0.4809 - Precision: 0.0000e+00 - Recall: 0.0000e+00 - accuracy: 0.8759 - loss: 0.3753 - val_AUC: 0.5000 - val_Precision: 0.0000e+00 - val_Recall: 0.0000e+00 - val_accuracy: 0.8733 - val_loss: 0.3800\n",
      "Epoch 21/50\n",
      "\u001b[1m219/219\u001b[0m \u001b[32m━━━━━━━━━━━━━━━━━━━━\u001b[0m\u001b[37m\u001b[0m \u001b[1m1s\u001b[0m 3ms/step - AUC: 0.4740 - Precision: 0.0000e+00 - Recall: 0.0000e+00 - accuracy: 0.8740 - loss: 0.3790 - val_AUC: 0.5000 - val_Precision: 0.0000e+00 - val_Recall: 0.0000e+00 - val_accuracy: 0.8733 - val_loss: 0.3800\n",
      "Epoch 22/50\n",
      "\u001b[1m219/219\u001b[0m \u001b[32m━━━━━━━━━━━━━━━━━━━━\u001b[0m\u001b[37m\u001b[0m \u001b[1m1s\u001b[0m 3ms/step - AUC: 0.4920 - Precision: 0.0000e+00 - Recall: 0.0000e+00 - accuracy: 0.8674 - loss: 0.3914 - val_AUC: 0.5000 - val_Precision: 0.0000e+00 - val_Recall: 0.0000e+00 - val_accuracy: 0.8733 - val_loss: 0.3800\n",
      "Epoch 23/50\n",
      "\u001b[1m219/219\u001b[0m \u001b[32m━━━━━━━━━━━━━━━━━━━━\u001b[0m\u001b[37m\u001b[0m \u001b[1m1s\u001b[0m 3ms/step - AUC: 0.4815 - Precision: 0.0000e+00 - Recall: 0.0000e+00 - accuracy: 0.8702 - loss: 0.3863 - val_AUC: 0.5000 - val_Precision: 0.0000e+00 - val_Recall: 0.0000e+00 - val_accuracy: 0.8733 - val_loss: 0.3800\n",
      "Epoch 24/50\n",
      "\u001b[1m219/219\u001b[0m \u001b[32m━━━━━━━━━━━━━━━━━━━━\u001b[0m\u001b[37m\u001b[0m \u001b[1m1s\u001b[0m 3ms/step - AUC: 0.4875 - Precision: 0.0000e+00 - Recall: 0.0000e+00 - accuracy: 0.8671 - loss: 0.3920 - val_AUC: 0.5000 - val_Precision: 0.0000e+00 - val_Recall: 0.0000e+00 - val_accuracy: 0.8733 - val_loss: 0.3800\n",
      "Epoch 25/50\n",
      "\u001b[1m219/219\u001b[0m \u001b[32m━━━━━━━━━━━━━━━━━━━━\u001b[0m\u001b[37m\u001b[0m \u001b[1m1s\u001b[0m 3ms/step - AUC: 0.4922 - Precision: 0.0000e+00 - Recall: 0.0000e+00 - accuracy: 0.8653 - loss: 0.3955 - val_AUC: 0.5000 - val_Precision: 0.0000e+00 - val_Recall: 0.0000e+00 - val_accuracy: 0.8733 - val_loss: 0.3801\n",
      "Epoch 26/50\n",
      "\u001b[1m219/219\u001b[0m \u001b[32m━━━━━━━━━━━━━━━━━━━━\u001b[0m\u001b[37m\u001b[0m \u001b[1m1s\u001b[0m 4ms/step - AUC: 0.4900 - Precision: 0.0000e+00 - Recall: 0.0000e+00 - accuracy: 0.8720 - loss: 0.3828 - val_AUC: 0.5000 - val_Precision: 0.0000e+00 - val_Recall: 0.0000e+00 - val_accuracy: 0.8733 - val_loss: 0.3800\n",
      "Epoch 27/50\n",
      "\u001b[1m219/219\u001b[0m \u001b[32m━━━━━━━━━━━━━━━━━━━━\u001b[0m\u001b[37m\u001b[0m \u001b[1m1s\u001b[0m 3ms/step - AUC: 0.4918 - Precision: 0.0000e+00 - Recall: 0.0000e+00 - accuracy: 0.8744 - loss: 0.3780 - val_AUC: 0.5000 - val_Precision: 0.0000e+00 - val_Recall: 0.0000e+00 - val_accuracy: 0.8733 - val_loss: 0.3801\n",
      "Epoch 28/50\n",
      "\u001b[1m219/219\u001b[0m \u001b[32m━━━━━━━━━━━━━━━━━━━━\u001b[0m\u001b[37m\u001b[0m \u001b[1m1s\u001b[0m 3ms/step - AUC: 0.4837 - Precision: 0.0000e+00 - Recall: 0.0000e+00 - accuracy: 0.8755 - loss: 0.3759 - val_AUC: 0.5000 - val_Precision: 0.0000e+00 - val_Recall: 0.0000e+00 - val_accuracy: 0.8733 - val_loss: 0.3800\n",
      "Epoch 29/50\n",
      "\u001b[1m219/219\u001b[0m \u001b[32m━━━━━━━━━━━━━━━━━━━━\u001b[0m\u001b[37m\u001b[0m \u001b[1m1s\u001b[0m 3ms/step - AUC: 0.4983 - Precision: 0.0000e+00 - Recall: 0.0000e+00 - accuracy: 0.8723 - loss: 0.3821 - val_AUC: 0.5000 - val_Precision: 0.0000e+00 - val_Recall: 0.0000e+00 - val_accuracy: 0.8733 - val_loss: 0.3800\n",
      "Epoch 30/50\n",
      "\u001b[1m219/219\u001b[0m \u001b[32m━━━━━━━━━━━━━━━━━━━━\u001b[0m\u001b[37m\u001b[0m \u001b[1m1s\u001b[0m 3ms/step - AUC: 0.4954 - Precision: 0.0000e+00 - Recall: 0.0000e+00 - accuracy: 0.8739 - loss: 0.3790 - val_AUC: 0.5000 - val_Precision: 0.0000e+00 - val_Recall: 0.0000e+00 - val_accuracy: 0.8733 - val_loss: 0.3801\n",
      "Epoch 31/50\n",
      "\u001b[1m219/219\u001b[0m \u001b[32m━━━━━━━━━━━━━━━━━━━━\u001b[0m\u001b[37m\u001b[0m \u001b[1m1s\u001b[0m 3ms/step - AUC: 0.4966 - Precision: 0.0000e+00 - Recall: 0.0000e+00 - accuracy: 0.8707 - loss: 0.3851 - val_AUC: 0.5000 - val_Precision: 0.0000e+00 - val_Recall: 0.0000e+00 - val_accuracy: 0.8733 - val_loss: 0.3800\n",
      "Epoch 32/50\n",
      "\u001b[1m219/219\u001b[0m \u001b[32m━━━━━━━━━━━━━━━━━━━━\u001b[0m\u001b[37m\u001b[0m \u001b[1m1s\u001b[0m 3ms/step - AUC: 0.4974 - Precision: 0.0000e+00 - Recall: 0.0000e+00 - accuracy: 0.8716 - loss: 0.3834 - val_AUC: 0.5000 - val_Precision: 0.0000e+00 - val_Recall: 0.0000e+00 - val_accuracy: 0.8733 - val_loss: 0.3800\n",
      "Epoch 33/50\n",
      "\u001b[1m219/219\u001b[0m \u001b[32m━━━━━━━━━━━━━━━━━━━━\u001b[0m\u001b[37m\u001b[0m \u001b[1m1s\u001b[0m 3ms/step - AUC: 0.5000 - Precision: 0.0000e+00 - Recall: 0.0000e+00 - accuracy: 0.8767 - loss: 0.3736 - val_AUC: 0.5000 - val_Precision: 0.0000e+00 - val_Recall: 0.0000e+00 - val_accuracy: 0.8733 - val_loss: 0.3800\n",
      "Epoch 34/50\n",
      "\u001b[1m219/219\u001b[0m \u001b[32m━━━━━━━━━━━━━━━━━━━━\u001b[0m\u001b[37m\u001b[0m \u001b[1m1s\u001b[0m 3ms/step - AUC: 0.4898 - Precision: 0.0000e+00 - Recall: 0.0000e+00 - accuracy: 0.8750 - loss: 0.3768 - val_AUC: 0.5000 - val_Precision: 0.0000e+00 - val_Recall: 0.0000e+00 - val_accuracy: 0.8733 - val_loss: 0.3800\n",
      "Epoch 35/50\n",
      "\u001b[1m219/219\u001b[0m \u001b[32m━━━━━━━━━━━━━━━━━━━━\u001b[0m\u001b[37m\u001b[0m \u001b[1m1s\u001b[0m 3ms/step - AUC: 0.4963 - Precision: 0.0000e+00 - Recall: 0.0000e+00 - accuracy: 0.8733 - loss: 0.3802 - val_AUC: 0.5000 - val_Precision: 0.0000e+00 - val_Recall: 0.0000e+00 - val_accuracy: 0.8733 - val_loss: 0.3800\n",
      "Epoch 36/50\n",
      "\u001b[1m219/219\u001b[0m \u001b[32m━━━━━━━━━━━━━━━━━━━━\u001b[0m\u001b[37m\u001b[0m \u001b[1m2s\u001b[0m 4ms/step - AUC: 0.4951 - Precision: 0.0000e+00 - Recall: 0.0000e+00 - accuracy: 0.8698 - loss: 0.3868 - val_AUC: 0.5000 - val_Precision: 0.0000e+00 - val_Recall: 0.0000e+00 - val_accuracy: 0.8733 - val_loss: 0.3800\n",
      "Epoch 37/50\n",
      "\u001b[1m219/219\u001b[0m \u001b[32m━━━━━━━━━━━━━━━━━━━━\u001b[0m\u001b[37m\u001b[0m \u001b[1m1s\u001b[0m 4ms/step - AUC: 0.4894 - Precision: 0.0000e+00 - Recall: 0.0000e+00 - accuracy: 0.8684 - loss: 0.3897 - val_AUC: 0.5000 - val_Precision: 0.0000e+00 - val_Recall: 0.0000e+00 - val_accuracy: 0.8733 - val_loss: 0.3800\n",
      "Epoch 38/50\n",
      "\u001b[1m219/219\u001b[0m \u001b[32m━━━━━━━━━━━━━━━━━━━━\u001b[0m\u001b[37m\u001b[0m \u001b[1m1s\u001b[0m 3ms/step - AUC: 0.4868 - Precision: 0.0000e+00 - Recall: 0.0000e+00 - accuracy: 0.8735 - loss: 0.3798 - val_AUC: 0.5000 - val_Precision: 0.0000e+00 - val_Recall: 0.0000e+00 - val_accuracy: 0.8733 - val_loss: 0.3800\n",
      "Epoch 39/50\n",
      "\u001b[1m219/219\u001b[0m \u001b[32m━━━━━━━━━━━━━━━━━━━━\u001b[0m\u001b[37m\u001b[0m \u001b[1m1s\u001b[0m 4ms/step - AUC: 0.4977 - Precision: 0.0000e+00 - Recall: 0.0000e+00 - accuracy: 0.8666 - loss: 0.3929 - val_AUC: 0.5000 - val_Precision: 0.0000e+00 - val_Recall: 0.0000e+00 - val_accuracy: 0.8733 - val_loss: 0.3800\n",
      "Epoch 40/50\n",
      "\u001b[1m219/219\u001b[0m \u001b[32m━━━━━━━━━━━━━━━━━━━━\u001b[0m\u001b[37m\u001b[0m \u001b[1m1s\u001b[0m 3ms/step - AUC: 0.5003 - Precision: 0.0000e+00 - Recall: 0.0000e+00 - accuracy: 0.8694 - loss: 0.3876 - val_AUC: 0.5000 - val_Precision: 0.0000e+00 - val_Recall: 0.0000e+00 - val_accuracy: 0.8733 - val_loss: 0.3800\n",
      "Epoch 41/50\n",
      "\u001b[1m219/219\u001b[0m \u001b[32m━━━━━━━━━━━━━━━━━━━━\u001b[0m\u001b[37m\u001b[0m \u001b[1m1s\u001b[0m 3ms/step - AUC: 0.5000 - Precision: 0.0000e+00 - Recall: 0.0000e+00 - accuracy: 0.8736 - loss: 0.3795 - val_AUC: 0.5000 - val_Precision: 0.0000e+00 - val_Recall: 0.0000e+00 - val_accuracy: 0.8733 - val_loss: 0.3800\n",
      "Epoch 42/50\n",
      "\u001b[1m219/219\u001b[0m \u001b[32m━━━━━━━━━━━━━━━━━━━━\u001b[0m\u001b[37m\u001b[0m \u001b[1m1s\u001b[0m 3ms/step - AUC: 0.4890 - Precision: 0.0000e+00 - Recall: 0.0000e+00 - accuracy: 0.8788 - loss: 0.3697 - val_AUC: 0.5000 - val_Precision: 0.0000e+00 - val_Recall: 0.0000e+00 - val_accuracy: 0.8733 - val_loss: 0.3801\n",
      "Epoch 43/50\n",
      "\u001b[1m219/219\u001b[0m \u001b[32m━━━━━━━━━━━━━━━━━━━━\u001b[0m\u001b[37m\u001b[0m \u001b[1m1s\u001b[0m 3ms/step - AUC: 0.4789 - Precision: 0.0000e+00 - Recall: 0.0000e+00 - accuracy: 0.8714 - loss: 0.3838 - val_AUC: 0.5000 - val_Precision: 0.0000e+00 - val_Recall: 0.0000e+00 - val_accuracy: 0.8733 - val_loss: 0.3800\n",
      "Epoch 44/50\n",
      "\u001b[1m219/219\u001b[0m \u001b[32m━━━━━━━━━━━━━━━━━━━━\u001b[0m\u001b[37m\u001b[0m \u001b[1m1s\u001b[0m 3ms/step - AUC: 0.4854 - Precision: 0.0000e+00 - Recall: 0.0000e+00 - accuracy: 0.8672 - loss: 0.3918 - val_AUC: 0.5000 - val_Precision: 0.0000e+00 - val_Recall: 0.0000e+00 - val_accuracy: 0.8733 - val_loss: 0.3800\n",
      "Epoch 45/50\n",
      "\u001b[1m219/219\u001b[0m \u001b[32m━━━━━━━━━━━━━━━━━━━━\u001b[0m\u001b[37m\u001b[0m \u001b[1m1s\u001b[0m 3ms/step - AUC: 0.4831 - Precision: 0.0000e+00 - Recall: 0.0000e+00 - accuracy: 0.8719 - loss: 0.3828 - val_AUC: 0.5000 - val_Precision: 0.0000e+00 - val_Recall: 0.0000e+00 - val_accuracy: 0.8733 - val_loss: 0.3800\n",
      "Epoch 46/50\n",
      "\u001b[1m219/219\u001b[0m \u001b[32m━━━━━━━━━━━━━━━━━━━━\u001b[0m\u001b[37m\u001b[0m \u001b[1m1s\u001b[0m 3ms/step - AUC: 0.4895 - Precision: 0.0000e+00 - Recall: 0.0000e+00 - accuracy: 0.8756 - loss: 0.3757 - val_AUC: 0.5000 - val_Precision: 0.0000e+00 - val_Recall: 0.0000e+00 - val_accuracy: 0.8733 - val_loss: 0.3800\n",
      "Epoch 47/50\n",
      "\u001b[1m219/219\u001b[0m \u001b[32m━━━━━━━━━━━━━━━━━━━━\u001b[0m\u001b[37m\u001b[0m \u001b[1m1s\u001b[0m 3ms/step - AUC: 0.4765 - Precision: 0.0000e+00 - Recall: 0.0000e+00 - accuracy: 0.8640 - loss: 0.3978 - val_AUC: 0.5000 - val_Precision: 0.0000e+00 - val_Recall: 0.0000e+00 - val_accuracy: 0.8733 - val_loss: 0.3800\n",
      "Epoch 48/50\n",
      "\u001b[1m219/219\u001b[0m \u001b[32m━━━━━━━━━━━━━━━━━━━━\u001b[0m\u001b[37m\u001b[0m \u001b[1m1s\u001b[0m 3ms/step - AUC: 0.4970 - Precision: 0.0000e+00 - Recall: 0.0000e+00 - accuracy: 0.8791 - loss: 0.3689 - val_AUC: 0.5000 - val_Precision: 0.0000e+00 - val_Recall: 0.0000e+00 - val_accuracy: 0.8733 - val_loss: 0.3801\n",
      "Epoch 49/50\n",
      "\u001b[1m219/219\u001b[0m \u001b[32m━━━━━━━━━━━━━━━━━━━━\u001b[0m\u001b[37m\u001b[0m \u001b[1m1s\u001b[0m 3ms/step - AUC: 0.5004 - Precision: 0.0000e+00 - Recall: 0.0000e+00 - accuracy: 0.8662 - loss: 0.3937 - val_AUC: 0.5000 - val_Precision: 0.0000e+00 - val_Recall: 0.0000e+00 - val_accuracy: 0.8733 - val_loss: 0.3800\n",
      "Epoch 50/50\n",
      "\u001b[1m219/219\u001b[0m \u001b[32m━━━━━━━━━━━━━━━━━━━━\u001b[0m\u001b[37m\u001b[0m \u001b[1m1s\u001b[0m 3ms/step - AUC: 0.5007 - Precision: 0.0000e+00 - Recall: 0.0000e+00 - accuracy: 0.8737 - loss: 0.3794 - val_AUC: 0.5000 - val_Precision: 0.0000e+00 - val_Recall: 0.0000e+00 - val_accuracy: 0.8733 - val_loss: 0.3800\n"
     ]
    },
    {
     "data": {
      "image/png": "[encoded data removed]",
      "text/plain": [
       "<Figure size 640x480 with 1 Axes>"
      ]
     },
     "metadata": {},
     "output_type": "display_data"
    },
    {
     "data": {
      "image/png": "[encoded data removed]",
      "text/plain": [
       "<Figure size 640x480 with 1 Axes>"
      ]
     },
     "metadata": {},
     "output_type": "display_data"
    }
   ],
   "source": [
    "from tensorflow.keras.callbacks import EarlyStopping\n",
    "\n",
    "# Early stopping to prevent overfitting\n",
    "early_stopping = EarlyStopping(\n",
    "    monitor='val_precision',  # Watch the validation loss\n",
    "    patience=5,  # Stop if no improvement after 5 epochs\n",
    "    mode='max',\n",
    "    restore_best_weights=True  # Restore the model weights at the best epoch\n",
    ")\n",
    "\n",
    "# Train with early stopping\n",
    "history3 = model_3.fit(\n",
    "    X_train, y_train,\n",
    "    validation_data=(X_test, y_test),\n",
    "    epochs=50,\n",
    "    batch_size=32,\n",
    "    callbacks=[early_stopping]\n",
    ")\n",
    "plot_training_vs_overfitting(history3)"
   ]
  },
  {
   "cell_type": "code",
   "execution_count": null,
   "id": "5ff275ff-8cec-4b58-9566-6cf4be3321db",
   "metadata": {},
   "outputs": [],
   "source": []
  }
 ],
 "metadata": {
  "kernelspec": {
   "display_name": "Python 3 (ipykernel)",
   "language": "python",
   "name": "python3"
  },
  "language_info": {
   "codemirror_mode": {
    "name": "ipython",
    "version": 3
   },
   "file_extension": ".py",
   "mimetype": "text/x-python",
   "name": "python",
   "nbconvert_exporter": "python",
   "pygments_lexer": "ipython3",
   "version": "3.12.4"
  }
 },
 "nbformat": 4,
 "nbformat_minor": 5
}
